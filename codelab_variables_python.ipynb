{
  "nbformat": 4,
  "nbformat_minor": 0,
  "metadata": {
    "colab": {
      "provenance": [],
      "authorship_tag": "ABX9TyNpfIq2UKuZ7v8P8EEePEZw",
      "include_colab_link": true
    },
    "kernelspec": {
      "name": "python3",
      "display_name": "Python 3"
    },
    "language_info": {
      "name": "python"
    }
  },
  "cells": [
    {
      "cell_type": "markdown",
      "metadata": {
        "id": "view-in-github",
        "colab_type": "text"
      },
      "source": [
        "<a href=\"https://colab.research.google.com/github/joeleherrera/Codelab-variables-python/blob/main/codelab_variables_python.ipynb\" target=\"_parent\"><img src=\"https://colab.research.google.com/assets/colab-badge.svg\" alt=\"Open In Colab\"/></a>"
      ]
    },
    {
      "cell_type": "code",
      "execution_count": null,
      "metadata": {
        "colab": {
          "base_uri": "https://localhost:8080/"
        },
        "id": "-GWN976XLMX7",
        "outputId": "0b839270-3079-4110-de37-140fd8b619ea"
      },
      "outputs": [
        {
          "output_type": "stream",
          "name": "stdout",
          "text": [
            "Un ejemplo de variable int podria ser: 10\n",
            "Un ejemplo de variable float podria ser: 3.14\n",
            "Un ejemplo de variable boolean podria ser: True\n",
            "Un ejemplo de variable str podria ser: Hola\n",
            "Limite de enteros: No tiene un limite definido por el numero de bits en Python.\n",
            "Limite de flotantes: Aproximadamente 15-17 digitos decimales en Python.\n",
            "Ingrese un número: 10\n",
            "El resultado de la suma de 10 multiplicado por (10 + 1) divido entre 2 es igual a: 55\n"
          ]
        }
      ],
      "source": [
        "variable_int = 10\n",
        "variable_float = 3.14\n",
        "variable_boolean = True\n",
        "variable_str = \"Hola\"\n",
        "\n",
        "print(f'Un ejemplo de variable int podria ser: {variable_int}')\n",
        "print(f'Un ejemplo de variable float podria ser: {variable_float}')\n",
        "print(f'Un ejemplo de variable boolean podria ser: {variable_boolean}')\n",
        "print(f'Un ejemplo de variable str podria ser: {variable_str}')\n",
        "\n",
        "#Limite de enteros: No tiene un limite definido por el numero de bits en Python.\n",
        "#Limite de flotantes: Aproximadamente 15-17 digitos decimales en Python.\n",
        "\n",
        "print(\"Limite de enteros: No tiene un limite definido por el numero de bits en Python.\")\n",
        "print(\"Limite de flotantes: Aproximadamente 15-17 digitos decimales en Python.\")\n",
        "\n",
        "#Le pido al usuario ingresar el numero deseado\n",
        "n = input((\"Ingrese un número: \"))\n",
        "#Convierto el numero en entero\n",
        "n = int(n)\n",
        "#Proceso la operacion\n",
        "suma = (n*(n+1))//2\n",
        "print(f'El resultado de la suma de {n} multiplicado por ({n} + 1) divido entre 2 es igual a: {suma}')\n",
        "\n"
      ]
    }
  ]
}